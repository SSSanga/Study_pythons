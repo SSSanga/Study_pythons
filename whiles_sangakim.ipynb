{
  "nbformat": 4,
  "nbformat_minor": 0,
  "metadata": {
    "colab": {
      "provenance": [],
      "authorship_tag": "ABX9TyOd2BpkFUrPs8OSRtXwF5+N",
      "include_colab_link": true
    },
    "kernelspec": {
      "name": "python3",
      "display_name": "Python 3"
    },
    "language_info": {
      "name": "python"
    }
  },
  "cells": [
    {
      "cell_type": "markdown",
      "metadata": {
        "id": "view-in-github",
        "colab_type": "text"
      },
      "source": [
        "<a href=\"https://colab.research.google.com/github/SSSanga/toy_pythons/blob/main/whiles_sangakim.ipynb\" target=\"_parent\"><img src=\"https://colab.research.google.com/assets/colab-badge.svg\" alt=\"Open In Colab\"/></a>"
      ]
    },
    {
      "cell_type": "code",
      "execution_count": null,
      "metadata": {
        "id": "e9RtB9AfXOZX"
      },
      "outputs": [],
      "source": [
        "first = 1"
      ]
    },
    {
      "cell_type": "code",
      "source": [
        "while first < 4 :\n",
        "  print (first)\n",
        "  print (\"in whiling\")\n",
        "  first = first + 1\n",
        "print (\"END\")"
      ],
      "metadata": {
        "colab": {
          "base_uri": "https://localhost:8080/"
        },
        "id": "zyxWwW3PX9A8",
        "outputId": "4854803d-ef27-442e-bfd4-6379fe261312"
      },
      "execution_count": null,
      "outputs": [
        {
          "output_type": "stream",
          "name": "stdout",
          "text": [
            "1\n",
            "in whiling\n",
            "2\n",
            "in whiling\n",
            "3\n",
            "in whiling\n",
            "END\n"
          ]
        }
      ]
    },
    {
      "cell_type": "markdown",
      "source": [
        "# 두번째 입력을 한다. "
      ],
      "metadata": {
        "id": "luETGprzmT46"
      }
    },
    {
      "cell_type": "code",
      "source": [],
      "metadata": {
        "id": "pRFcQqxTma7q"
      },
      "execution_count": null,
      "outputs": []
    }
  ]
}