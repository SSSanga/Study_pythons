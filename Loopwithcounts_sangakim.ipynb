{
  "nbformat": 4,
  "nbformat_minor": 0,
  "metadata": {
    "colab": {
      "provenance": [],
      "authorship_tag": "ABX9TyOF1i0m9g3W5hBU4HDtuaQy",
      "include_colab_link": true
    },
    "kernelspec": {
      "name": "python3",
      "display_name": "Python 3"
    },
    "language_info": {
      "name": "python"
    }
  },
  "cells": [
    {
      "cell_type": "markdown",
      "metadata": {
        "id": "view-in-github",
        "colab_type": "text"
      },
      "source": [
        "<a href=\"https://colab.research.google.com/github/SSSanga/toy_pythons/blob/main/Loopwithcounts_sangakim.ipynb\" target=\"_parent\"><img src=\"https://colab.research.google.com/assets/colab-badge.svg\" alt=\"Open In Colab\"/></a>"
      ]
    },
    {
      "cell_type": "code",
      "execution_count": 1,
      "metadata": {
        "id": "tvCykQ5DuDfj"
      },
      "outputs": [],
      "source": [
        "Count = 1"
      ]
    },
    {
      "cell_type": "code",
      "source": [
        "while Count < 6 :\n",
        "  print (Count)\n",
        "  Count = Count + 1\n",
        "print (\"END\")"
      ],
      "metadata": {
        "colab": {
          "base_uri": "https://localhost:8080/"
        },
        "id": "PPAzb1mUvE9A",
        "outputId": "565e09b5-5b51-40b2-fa09-720611dbdb52"
      },
      "execution_count": 2,
      "outputs": [
        {
          "output_type": "stream",
          "name": "stdout",
          "text": [
            "1\n",
            "2\n",
            "3\n",
            "4\n",
            "5\n",
            "END\n"
          ]
        }
      ]
    }
  ]
}